{
 "cells": [
  {
   "cell_type": "code",
   "execution_count": 1,
   "metadata": {},
   "outputs": [],
   "source": [
    "# For development purposes, reload imported modules when source changes\n",
    "%load_ext autoreload\n",
    "%autoreload 2\n",
    "\n",
    "def append_to_path(dir0): # A convenience function\n",
    "    if dir0 not in sys.path:\n",
    "        sys.path.append(dir0)\n",
    "\n",
    "from mountainlab_pytools import mlproc as mlp\n",
    "import spikeinterface as si\n",
    "import os, sys\n",
    "\n",
    "append_to_path(os.getcwd()+'/../..')\n",
    "from widgets.timeserieswidget import TimeseriesWidget"
   ]
  },
  {
   "cell_type": "code",
   "execution_count": 2,
   "metadata": {},
   "outputs": [
    {
     "data": {
      "application/vnd.jupyter.widget-view+json": {
       "model_id": "a7771a8a8def41a38102480b36aa4eb6",
       "version_major": 2,
       "version_minor": 0
      },
      "text/plain": [
       "JSProxyWidget(status='Not yet rendered')"
      ]
     },
     "metadata": {},
     "output_type": "display_data"
    }
   ],
   "source": [
    "P=mlp.initPipeline()"
   ]
  },
  {
   "cell_type": "code",
   "execution_count": 13,
   "metadata": {},
   "outputs": [
    {
     "data": {
      "application/vnd.jupyter.widget-view+json": {
       "model_id": "6d606649e1714c40a634491bd0594038",
       "version_major": 2,
       "version_minor": 0
      },
      "text/plain": [
       "Output()"
      ]
     },
     "metadata": {},
     "output_type": "display_data"
    },
    {
     "name": "stdout",
     "output_type": "stream",
     "text": [
      "Finished pipeline.\n"
     ]
    }
   ],
   "source": [
    "if not os.path.exists('data'):\n",
    "    os.mkdir('data')\n",
    "mearec_container=''\n",
    "with P:\n",
    "    mlp.addProcess(\n",
    "        'mearec.gen_spiketrains',\n",
    "        inputs=dict(\n",
    "        ),\n",
    "        outputs=dict(\n",
    "            spiketrains_out='data/spiketrains.npy'\n",
    "        ),\n",
    "        parameters=dict(\n",
    "            duration=10\n",
    "        ),\n",
    "        opts=dict(\n",
    "            container=mearec_container\n",
    "        )\n",
    "    )\n",
    "    mlp.addProcess(\n",
    "        'mearec.gen_recording',\n",
    "        inputs=dict(\n",
    "            spiketrains='data/spiketrains.npy'\n",
    "        ),\n",
    "        outputs=dict(\n",
    "            recording_out='data/recording.h5'\n",
    "        ),\n",
    "        parameters=dict(\n",
    "            noise_level=8\n",
    "        ),\n",
    "        opts=dict(\n",
    "            container=mearec_container\n",
    "        )\n",
    "    )\n",
    "    mlp.addProcess(\n",
    "        'mearec.gen_recording',\n",
    "        inputs=dict(\n",
    "            spiketrains='data/spiketrains.npy'\n",
    "        ),\n",
    "        outputs=dict(\n",
    "            recording_out='data/recording_noiseless.h5'\n",
    "        ),\n",
    "        parameters=dict(\n",
    "            noise_level=0\n",
    "        ),\n",
    "        opts=dict(\n",
    "            container=mearec_container\n",
    "        )\n",
    "    )"
   ]
  },
  {
   "cell_type": "code",
   "execution_count": 14,
   "metadata": {},
   "outputs": [],
   "source": [
    "IA=si.MEArecInputExtractor(recording_file='data/recording.h5')\n",
    "IA_noiseless=si.MEArecInputExtractor(recording_file='data/recording_noiseless.h5')"
   ]
  },
  {
   "cell_type": "code",
   "execution_count": 17,
   "metadata": {},
   "outputs": [
    {
     "data": {
      "application/vnd.jupyter.widget-view+json": {
       "model_id": "22a46f99238548099ffcc05c43744915",
       "version_major": 2,
       "version_minor": 0
      },
      "text/plain": [
       "VBox(children=(HBox(children=(Button(icon='plus-square', layout=Layout(width='40px'), style=ButtonStyle(), too…"
      ]
     },
     "metadata": {},
     "output_type": "display_data"
    },
    {
     "data": {
      "application/vnd.jupyter.widget-view+json": {
       "model_id": "79fa70679a054d2cac9a4dfed2e669d0",
       "version_major": 2,
       "version_minor": 0
      },
      "text/plain": [
       "VBox(children=(HBox(children=(Button(icon='plus-square', layout=Layout(width='40px'), style=ButtonStyle(), too…"
      ]
     },
     "metadata": {},
     "output_type": "display_data"
    }
   ],
   "source": [
    "W=TimeseriesWidget(input_extractor=IA,channels=[0,1,2,3],trange=[0,5000])\n",
    "W.display()\n",
    "W_noiseless=TimeseriesWidget(input_extractor=IA_noiseless,channels=[0,1,2,3],trange=[0,5000])\n",
    "W_noiseless.display()"
   ]
  },
  {
   "cell_type": "code",
   "execution_count": null,
   "metadata": {},
   "outputs": [],
   "source": []
  }
 ],
 "metadata": {
  "kernelspec": {
   "display_name": "Python 3",
   "language": "python",
   "name": "python3"
  },
  "language_info": {
   "codemirror_mode": {
    "name": "ipython",
    "version": 3
   },
   "file_extension": ".py",
   "mimetype": "text/x-python",
   "name": "python",
   "nbconvert_exporter": "python",
   "pygments_lexer": "ipython3",
   "version": "3.6.2"
  }
 },
 "nbformat": 4,
 "nbformat_minor": 2
}
