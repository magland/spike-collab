{
 "cells": [
  {
   "cell_type": "code",
   "execution_count": 43,
   "metadata": {},
   "outputs": [
    {
     "name": "stdout",
     "output_type": "stream",
     "text": [
      "The autoreload extension is already loaded. To reload it, use:\n",
      "  %reload_ext autoreload\n"
     ]
    }
   ],
   "source": [
    "# For development purposes, reload imported modules when source changes\n",
    "%load_ext autoreload\n",
    "%autoreload 2\n",
    "\n",
    "def append_to_path(dir0): # A convenience function\n",
    "    if dir0 not in sys.path:\n",
    "        sys.path.append(dir0)\n",
    "\n",
    "import spikeinterface as si\n",
    "import os, sys\n",
    "import numpy as np\n",
    "\n",
    "append_to_path(os.getcwd()+'/../..')\n",
    "from widgets.timeserieswidget import TimeseriesWidget\n",
    "\n",
    "from gen_synth_datasets import gen_synth_datasets"
   ]
  },
  {
   "cell_type": "code",
   "execution_count": 54,
   "metadata": {},
   "outputs": [
    {
     "name": "stdout",
     "output_type": "stream",
     "text": [
      "DATASETS:\n",
      "001_synth_K4\n",
      "002_synth_K8\n",
      "003_synth_K12\n",
      "004_synth_K16\n",
      "005_synth_K20\n"
     ]
    }
   ],
   "source": [
    "datasets=[]\n",
    "duration=60\n",
    "noise_level=8\n",
    "templates='kbucket://b5ecdf1474c5/MEArec/templates/templates_30_Neuronexus-32.h5'\n",
    "for j in range(1,6):\n",
    "    K=j*4\n",
    "    datasets.append(dict(        \n",
    "        name='{}_synth_K{}'.format('{0:03d}'.format(j),K),\n",
    "        duration=duration,\n",
    "        n_exc=int(K/2),\n",
    "        n_inh=K-int(K/2),\n",
    "        noise_level=8,\n",
    "        templates=templates,\n",
    "        channel_ids=[4,5,6,7]\n",
    "    ))\n",
    "print('DATASETS:')\n",
    "for ds in datasets:\n",
    "    print(ds['name'])"
   ]
  },
  {
   "cell_type": "code",
   "execution_count": 49,
   "metadata": {},
   "outputs": [
    {
     "data": {
      "application/vnd.jupyter.widget-view+json": {
       "model_id": "b437dd6301514b1e9dfc4899d1488890",
       "version_major": 2,
       "version_minor": 0
      },
      "text/plain": [
       "JSProxyWidget(status='Not yet rendered')"
      ]
     },
     "metadata": {},
     "output_type": "display_data"
    }
   ],
   "source": [
    "P=mlp.initPipeline()"
   ]
  },
  {
   "cell_type": "code",
   "execution_count": 50,
   "metadata": {},
   "outputs": [
    {
     "name": "stdout",
     "output_type": "stream",
     "text": [
      "001_synth_K4\n"
     ]
    },
    {
     "data": {
      "application/vnd.jupyter.widget-view+json": {
       "model_id": "8df3384851c44642a1e6caea2c55133c",
       "version_major": 2,
       "version_minor": 0
      },
      "text/plain": [
       "Output()"
      ]
     },
     "metadata": {},
     "output_type": "display_data"
    },
    {
     "name": "stdout",
     "output_type": "stream",
     "text": [
      "Finished pipeline.\n",
      "Loading recordings from file...\n",
      "Done loading recordings...\n",
      "Writing in mda format...\n",
      "Loading recordings from file...\n",
      "Done loading recordings...\n",
      "002_synth_K8\n"
     ]
    },
    {
     "data": {
      "application/vnd.jupyter.widget-view+json": {
       "model_id": "6e2fbffbbeb54056bbe28794be1c7537",
       "version_major": 2,
       "version_minor": 0
      },
      "text/plain": [
       "Output()"
      ]
     },
     "metadata": {},
     "output_type": "display_data"
    },
    {
     "name": "stdout",
     "output_type": "stream",
     "text": [
      "Finished pipeline.\n",
      "Loading recordings from file...\n",
      "Done loading recordings...\n",
      "Writing in mda format...\n",
      "Loading recordings from file...\n",
      "Done loading recordings...\n",
      "003_synth_K12\n"
     ]
    },
    {
     "data": {
      "application/vnd.jupyter.widget-view+json": {
       "model_id": "b8558b6d0f7343bd89a3db2cbf1a01e6",
       "version_major": 2,
       "version_minor": 0
      },
      "text/plain": [
       "Output()"
      ]
     },
     "metadata": {},
     "output_type": "display_data"
    },
    {
     "name": "stdout",
     "output_type": "stream",
     "text": [
      "Finished pipeline.\n",
      "Loading recordings from file...\n",
      "Done loading recordings...\n",
      "Writing in mda format...\n",
      "Loading recordings from file...\n",
      "Done loading recordings...\n",
      "004_synth_K16\n"
     ]
    },
    {
     "data": {
      "application/vnd.jupyter.widget-view+json": {
       "model_id": "a484721529334602b486f9e38575acfd",
       "version_major": 2,
       "version_minor": 0
      },
      "text/plain": [
       "Output()"
      ]
     },
     "metadata": {},
     "output_type": "display_data"
    },
    {
     "name": "stdout",
     "output_type": "stream",
     "text": [
      "Finished pipeline.\n",
      "Loading recordings from file...\n",
      "Done loading recordings...\n",
      "Writing in mda format...\n",
      "Loading recordings from file...\n",
      "Done loading recordings...\n",
      "005_synth_K20\n"
     ]
    },
    {
     "data": {
      "application/vnd.jupyter.widget-view+json": {
       "model_id": "a715ae2b9a0a41e988f1097161ff9c3f",
       "version_major": 2,
       "version_minor": 0
      },
      "text/plain": [
       "Output()"
      ]
     },
     "metadata": {},
     "output_type": "display_data"
    },
    {
     "name": "stdout",
     "output_type": "stream",
     "text": [
      "Finished pipeline.\n",
      "Loading recordings from file...\n",
      "Done loading recordings...\n",
      "Writing in mda format...\n",
      "Loading recordings from file...\n",
      "Done loading recordings...\n",
      "Done.\n"
     ]
    },
    {
     "data": {
      "application/vnd.jupyter.widget-view+json": {
       "model_id": "c9e403b44e204adb8799189356afb50b",
       "version_major": 2,
       "version_minor": 0
      },
      "text/plain": [
       "Output()"
      ]
     },
     "metadata": {},
     "output_type": "display_data"
    },
    {
     "name": "stdout",
     "output_type": "stream",
     "text": [
      "Finished pipeline.\n"
     ]
    }
   ],
   "source": [
    "with P:\n",
    "    gen_synth_datasets(datasets,tmpdir='tmp',outdir='datasets')"
   ]
  },
  {
   "cell_type": "code",
   "execution_count": 57,
   "metadata": {},
   "outputs": [
    {
     "data": {
      "image/png": "[encoded data removed]",
      "text/plain": [
       "<matplotlib.figure.Figure at 0x7f6e82ac8898>"
      ]
     },
     "metadata": {},
     "output_type": "display_data"
    }
   ],
   "source": [
    "IX=si.MdaInputExtractor(dataset_directory='datasets/005_synth_K20')\n",
    "W=TimeseriesWidget(input_extractor=IX,trange=[0,5000],width=8,height=4)\n",
    "W.plot()"
   ]
  }
 ],
 "metadata": {
  "kernelspec": {
   "display_name": "Python 3",
   "language": "python",
   "name": "python3"
  },
  "language_info": {
   "codemirror_mode": {
    "name": "ipython",
    "version": 3
   },
   "file_extension": ".py",
   "mimetype": "text/x-python",
   "name": "python",
   "nbconvert_exporter": "python",
   "pygments_lexer": "ipython3",
   "version": "3.6.2"
  }
 },
 "nbformat": 4,
 "nbformat_minor": 2
}
