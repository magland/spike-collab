{
 "cells": [
  {
   "cell_type": "markdown",
   "metadata": {},
   "source": [
    "## Goal: define an API for representing spike sorting output that is independent of the underlying data format\n",
    "\n",
    "Different spike sorting algorithms have different conventions for storing their outputs. Rather than converting all those to one common format (which ultimately we may end up doing anyway), during development it is useful to have conventions for a python object that could be passed around to various software programs for visualization, validation etc. It could also facilitating converting between formats."
   ]
  },
  {
   "cell_type": "code",
   "execution_count": 3,
   "metadata": {},
   "outputs": [
    {
     "ename": "ModuleNotFoundError",
     "evalue": "No module named 'some_library'",
     "traceback": [
      "\u001b[0;31m---------------------------------------------------------------------------\u001b[0m",
      "\u001b[0;31mModuleNotFoundError\u001b[0m                       Traceback (most recent call last)",
      "\u001b[0;32m<ipython-input-3-3849dc059828>\u001b[0m in \u001b[0;36m<module>\u001b[0;34m()\u001b[0m\n\u001b[1;32m      1\u001b[0m \u001b[0;31m# The following code does not work, but shows a possible interface\u001b[0m\u001b[0;34m\u001b[0m\u001b[0;34m\u001b[0m\u001b[0m\n\u001b[1;32m      2\u001b[0m \u001b[0;34m\u001b[0m\u001b[0m\n\u001b[0;32m----> 3\u001b[0;31m \u001b[0;32mfrom\u001b[0m \u001b[0msome_library\u001b[0m \u001b[0;32mimport\u001b[0m \u001b[0mOutputFormat1\u001b[0m \u001b[0;31m# Fictitious class that encapsulates a .hdf5 format\u001b[0m\u001b[0;34m\u001b[0m\u001b[0m\n\u001b[0m\u001b[1;32m      4\u001b[0m \u001b[0;32mfrom\u001b[0m \u001b[0msome_other_library\u001b[0m \u001b[0;32mimport\u001b[0m \u001b[0mOutputFormat2\u001b[0m \u001b[0;31m# Fictitious class that encapsulates a directory format\u001b[0m\u001b[0;34m\u001b[0m\u001b[0m\n\u001b[1;32m      5\u001b[0m \u001b[0;34m\u001b[0m\u001b[0m\n",
      "\u001b[0;31mModuleNotFoundError\u001b[0m: No module named 'some_library'"
     ],
     "output_type": "error"
    }
   ],
   "source": [
    "# The following code does not work, but shows a possible way that the sorting output objects could be used\n",
    "\n",
    "from some_library import OutputFormat1 # Fictitious class that encapsulates a .hdf5 format\n",
    "from some_other_library import OutputFormat2 # Fictitious class that encapsulates a directory format\n",
    "\n",
    "# Print info about a sorting output object X\n",
    "def print_info(X):\n",
    "    K=X.unitCount() # The number of units output by the spike sorter\n",
    "    print('This sorting has {} units.'.format(K))\n",
    "    for k in range(1,K+1):\n",
    "        times_k=X.eventTimes(unit=k) # Retrieve the timestamps for the events in unit k\n",
    "        print('unit {} has {} events').format(k,len(times_k))\n",
    "\n",
    "output_abc=OutputFormat1('/my/sorting/output_abc.hdf5') # note that this is a file\n",
    "output_def=OutputFormat2('/my/sorting/output_def') # note that this is a directoy\n",
    "\n",
    "print('Info about output_abc:')\n",
    "print_info(output_abc)\n",
    "\n",
    "print('Info about output_def:')\n",
    "print_info(output_def)\n",
    "\n"
   ]
  },
  {
   "cell_type": "code",
   "execution_count": null,
   "metadata": {},
   "outputs": [],
   "source": []
  }
 ],
 "metadata": {
  "kernelspec": {
   "display_name": "Python 3",
   "language": "python",
   "name": "python3"
  },
  "language_info": {
   "codemirror_mode": {
    "name": "ipython",
    "version": 3
   },
   "file_extension": ".py",
   "mimetype": "text/x-python",
   "name": "python",
   "nbconvert_exporter": "python",
   "pygments_lexer": "ipython3",
   "version": "3.6.2"
  }
 },
 "nbformat": 4,
 "nbformat_minor": 2
}
