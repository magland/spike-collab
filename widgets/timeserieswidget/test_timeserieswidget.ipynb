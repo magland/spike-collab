{
 "cells": [
  {
   "cell_type": "markdown",
   "metadata": {},
   "source": [
    "## Overview\n",
    "\n",
    "This notebook shows a timeseries widget that uses input and output extractors.\n",
    "\n",
    "The timeseries widget allows viewing of subset of channels and timerange, and allows scrolling through the dataset. In only loads data as needed. This allows it to work on remote files, pulling down only the data as needed.\n",
    "\n",
    "Here we demonstrate with data in mda/mountainsort format hosted on kbucket. The widget pulls down time chunks only as needed. It is also possible to download and cache the dataset by passing download=True in the function call below.\n",
    "\n",
    "## Prerequisites\n",
    "\n",
    "The following conda packages are needed:\n",
    "\n",
    "**channels**: flatiron, conda-forge\n",
    "\n",
    "**packages**: mountainlab mountainlab_pytools\n",
    "\n",
    "Tested in jupyterlab"
   ]
  },
  {
   "cell_type": "code",
   "execution_count": 1,
   "metadata": {},
   "outputs": [],
   "source": [
    "# For development purposes, reload imported modules when source changes\n",
    "%load_ext autoreload\n",
    "%autoreload 2\n",
    "\n",
    "def append_to_path(dir0): # A convenience function\n",
    "    if dir0 not in sys.path:\n",
    "        sys.path.append(dir0)\n",
    "\n",
    "import os, sys\n",
    "append_to_path(os.getcwd()+'/../..')"
   ]
  },
  {
   "cell_type": "code",
   "execution_count": 2,
   "metadata": {},
   "outputs": [],
   "source": [
    "from extractors.MdaExtractors import MdaInputExtractor, MdaOutputExtractor"
   ]
  },
  {
   "cell_type": "code",
   "execution_count": 3,
   "metadata": {},
   "outputs": [],
   "source": [
    "# Point to some sample data from kbucket\n",
    "dirname='kbucket://b5ecdf1474c5/datasets/synth_datasets/datasets/synth_tetrode_30min'"
   ]
  },
  {
   "cell_type": "code",
   "execution_count": 4,
   "metadata": {},
   "outputs": [
    {
     "name": "stdout",
     "output_type": "stream",
     "text": [
      "Downloading file if needed: kbucket://b5ecdf1474c5/datasets/synth_datasets/datasets/synth_tetrode_30min/firings_true.mda\n",
      "Done.\n",
      "Sampling frequency = 30000 Hz\n",
      "Number of units = 20.0\n"
     ]
    }
   ],
   "source": [
    "input_extractor=MdaInputExtractor(dataset_directory=dirname,download=False)\n",
    "output_extractor=MdaOutputExtractor(firings_fname=dirname+'/firings_true.mda')\n",
    "\n",
    "print('Sampling frequency = {}'.format(input_extractor.getSamplingFrequency()))\n",
    "print('Number of units = {}'.format(output_extractor.getNumUnits()))"
   ]
  },
  {
   "cell_type": "code",
   "execution_count": 5,
   "metadata": {},
   "outputs": [],
   "source": [
    "# imports\n",
    "from timeserieswidget import TimeseriesWidget"
   ]
  },
  {
   "cell_type": "code",
   "execution_count": 24,
   "metadata": {},
   "outputs": [
    {
     "data": {
      "application/vnd.jupyter.widget-view+json": {
       "model_id": "da674ea4016942bbb9a9559bd90f5922",
       "version_major": 2,
       "version_minor": 0
      },
      "text/plain": [
       "VBox(children=(HBox(children=(Button(icon='plus-square', layout=Layout(width='40px'), style=ButtonStyle(), too…"
      ]
     },
     "metadata": {},
     "output_type": "display_data"
    }
   ],
   "source": [
    "# Display timeseries widget with the Mda reader\n",
    "W=TimeseriesWidget(\n",
    "    input_extractor=input_extractor,\n",
    "    output_extractor=output_extractor,\n",
    "    channels=[1,2,3,4],\n",
    "    trange=[0,3000]\n",
    ")"
   ]
  },
  {
   "cell_type": "code",
   "execution_count": null,
   "metadata": {},
   "outputs": [],
   "source": []
  }
 ],
 "metadata": {
  "kernelspec": {
   "display_name": "Python 3",
   "language": "python",
   "name": "python3"
  },
  "language_info": {
   "codemirror_mode": {
    "name": "ipython",
    "version": 3
   },
   "file_extension": ".py",
   "mimetype": "text/x-python",
   "name": "python",
   "nbconvert_exporter": "python",
   "pygments_lexer": "ipython3",
   "version": "3.6.2"
  }
 },
 "nbformat": 4,
 "nbformat_minor": 2
}
