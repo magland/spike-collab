{
 "cells": [
  {
   "cell_type": "markdown",
   "metadata": {},
   "source": [
    "### Warning: this is the advanced version of this notebook.\n",
    "\n",
    "It requires more fancy configuration. Try the simpler one that doesn't have _advanced in the name\n",
    "\n",
    "### Overview\n",
    "\n",
    "This notebook shows a timeseries widget that takes as input an abstract timeseries reader. We will substitute our InputExtractor when it is ready, but for now this is a placeholder.\n",
    "\n",
    "The timeseries widget allows viewing of subset of channels and timerange, and allows scrolling through the dataset. In only loads data as needed. Ultimately this should work with remote files, pulling down only the data as needed.\n",
    "\n",
    "I illustrate two different readers: TimeseriesMdaReader and TimeseriesHdf5Reader.\n",
    "\n",
    "### Prerequisites\n",
    "\n",
    "You have two options for viewing this notebook in jupyterlab.\n",
    "\n",
    "(1) You can install jupyterlab, with the required extensions (https://github.com/flatironinstitute/mountainsort_examples) and then install the conda packages as shown in the Dockerfile.\n",
    "\n",
    "(2) You can use docker and epoxy (see https://github.com/magland/epoxy/blob/master/README.md)\n",
    "\n",
    "```\n",
    "> cd [this-directory]\n",
    "> epoxy-jupyterlab .\n",
    "```"
   ]
  },
  {
   "cell_type": "code",
   "execution_count": 30,
   "metadata": {},
   "outputs": [
    {
     "name": "stdout",
     "output_type": "stream",
     "text": [
      "The autoreload extension is already loaded. To reload it, use:\n",
      "  %reload_ext autoreload\n"
     ]
    }
   ],
   "source": [
    "# For development purposes, reload imported modules when source changes\n",
    "%load_ext autoreload\n",
    "%autoreload 2"
   ]
  },
  {
   "cell_type": "code",
   "execution_count": 35,
   "metadata": {},
   "outputs": [],
   "source": [
    "# imports\n",
    "from mountainlab_pytools import mlproc as mlp\n",
    "from mountainlab_pytools import mdaio\n",
    "from ml_spikeforest import create_timeseries_hdf5, TimeseriesHdf5Reader, TimeseriesMdaReader\n",
    "from timeserieswidget import TimeseriesWidget"
   ]
  },
  {
   "cell_type": "code",
   "execution_count": 37,
   "metadata": {},
   "outputs": [],
   "source": [
    "# Get some sample data from kbucket\n",
    "dirname='kbucket://b5ecdf1474c5/datasets/synth_datasets/datasets/synth_tetrode_30min_short'\n",
    "raw=dirname+'/raw.mda'\n",
    "firings_true=dirname+'/firings_true.mda'\n",
    "geom=dirname+'/geom.csv'"
   ]
  },
  {
   "cell_type": "code",
   "execution_count": 38,
   "metadata": {},
   "outputs": [
    {
     "name": "stdout",
     "output_type": "stream",
     "text": [
      "Downloading timeseries (if needed)...\n"
     ]
    }
   ],
   "source": [
    "print('Downloading timeseries (if needed)...')\n",
    "raw_fname=mlp.realizeFile(raw)"
   ]
  },
  {
   "cell_type": "code",
   "execution_count": 39,
   "metadata": {},
   "outputs": [
    {
     "data": {
      "application/vnd.jupyter.widget-view+json": {
       "model_id": "98e29a1d3ebd4469b146ec28c623c917",
       "version_major": 2,
       "version_minor": 0
      },
      "text/plain": [
       "VBox(children=(HBox(children=(Button(icon='plus-square', layout=Layout(width='40px'), style=ButtonStyle(), too…"
      ]
     },
     "metadata": {},
     "output_type": "display_data"
    }
   ],
   "source": [
    "# Display timeseries widget with the Mda reader\n",
    "reader=TimeseriesMdaReader(raw_fname,samplerate=30000)\n",
    "W=TimeseriesWidget(reader,channels=[1,2,3,4])"
   ]
  },
  {
   "cell_type": "code",
   "execution_count": 25,
   "metadata": {},
   "outputs": [],
   "source": [
    "## Now create timeseries HDF5 file"
   ]
  },
  {
   "cell_type": "code",
   "execution_count": 26,
   "metadata": {},
   "outputs": [
    {
     "data": {
      "application/vnd.jupyter.widget-view+json": {
       "model_id": "6bab69133c2349b383bec53f5c2adc1f",
       "version_major": 2,
       "version_minor": 0
      },
      "text/plain": [
       "JSProxyWidget(status='Not yet rendered')"
      ]
     },
     "metadata": {},
     "output_type": "display_data"
    }
   ],
   "source": [
    "pipeline=mlp.initPipeline()"
   ]
  },
  {
   "cell_type": "code",
   "execution_count": 28,
   "metadata": {},
   "outputs": [
    {
     "data": {
      "application/vnd.jupyter.widget-view+json": {
       "model_id": "cd28b67c00364e9bab4fd2789978d5af",
       "version_major": 2,
       "version_minor": 0
      },
      "text/plain": [
       "Output()"
      ]
     },
     "metadata": {},
     "output_type": "display_data"
    },
    {
     "name": "stdout",
     "output_type": "stream",
     "text": [
      "Finished pipeline.\n"
     ]
    }
   ],
   "source": [
    "with pipeline:\n",
    "    mlp.addProcess(\n",
    "        'spikeforest.create_timeseries_hdf5',\n",
    "        dict(input=raw_fname),\n",
    "        dict(output='test.h5'),\n",
    "        dict(samplerate=30000),\n",
    "        dict()\n",
    "    )"
   ]
  },
  {
   "cell_type": "code",
   "execution_count": 29,
   "metadata": {},
   "outputs": [
    {
     "data": {
      "application/vnd.jupyter.widget-view+json": {
       "model_id": "5333065345eb4942af0df934724368b2",
       "version_major": 2,
       "version_minor": 0
      },
      "text/plain": [
       "VBox(children=(HBox(children=(Button(icon='plus-square', layout=Layout(width='40px'), style=ButtonStyle(), too…"
      ]
     },
     "metadata": {},
     "output_type": "display_data"
    }
   ],
   "source": [
    "# Display timeseries widget with the HDF5 reader\n",
    "reader=TimeseriesHdf5Reader('test.hdf5')\n",
    "W=TimeseriesWidget(reader,channels=[1,2,3,4])"
   ]
  },
  {
   "cell_type": "code",
   "execution_count": null,
   "metadata": {},
   "outputs": [],
   "source": []
  }
 ],
 "metadata": {
  "kernelspec": {
   "display_name": "Python 3",
   "language": "python",
   "name": "python3"
  },
  "language_info": {
   "codemirror_mode": {
    "name": "ipython",
    "version": 3
   },
   "file_extension": ".py",
   "mimetype": "text/x-python",
   "name": "python",
   "nbconvert_exporter": "python",
   "pygments_lexer": "ipython3",
   "version": "3.6.2"
  }
 },
 "nbformat": 4,
 "nbformat_minor": 2
}
