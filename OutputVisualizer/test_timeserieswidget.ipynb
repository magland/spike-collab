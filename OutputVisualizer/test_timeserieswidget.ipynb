{
 "cells": [
  {
   "cell_type": "markdown",
   "metadata": {},
   "source": [
    "## Overview\n",
    "\n",
    "This notebook shows a timeseries widget that takes as input an abstract timeseries reader. We will substitute our InputExtractor when it is ready, but for now this is a placeholder.\n",
    "\n",
    "The timeseries widget allows viewing of subset of channels and timerange, and allows scrolling through the dataset. In only loads data as needed. Ultimately this should work with remote files, pulling down only the data as needed.\n",
    "\n",
    "Two different backend readers are used: TimeseriesMdaReader and TimeseriesHdf5Reader.\n",
    "\n",
    "A small demonstration dataset is downloaded from kbucket. The downloaded data will be cached in a temporary directory on the local machine.\n",
    "\n",
    "## Prerequisites\n",
    "\n",
    "The following conda packages are needed:\n",
    "\n",
    "**channels**: flatiron, conda-forge\n",
    "\n",
    "**packages**: mountainlab mountainlab_pytools ml_spikeforest\n",
    "\n",
    "Tested in jupyterlab"
   ]
  },
  {
   "cell_type": "code",
   "execution_count": 2,
   "metadata": {},
   "outputs": [],
   "source": [
    "# For development purposes, reload imported modules when source changes\n",
    "%load_ext autoreload\n",
    "%autoreload 2"
   ]
  },
  {
   "cell_type": "code",
   "execution_count": 3,
   "metadata": {},
   "outputs": [],
   "source": [
    "# imports\n",
    "from mountainlab_pytools import mlproc as mlp\n",
    "from mountainlab_pytools import mdaio\n",
    "from readers import TimeseriesHdf5Reader, TimeseriesMdaReader\n",
    "from timeserieswidget import TimeseriesWidget"
   ]
  },
  {
   "cell_type": "code",
   "execution_count": 15,
   "metadata": {},
   "outputs": [],
   "source": [
    "# Get some sample data from kbucket\n",
    "#dirname='kbucket://b5ecdf1474c5/datasets/synth_datasets/datasets/synth_16ch_30min'\n",
    "dirname='kbucket://b5ecdf1474c5/datasets/neuron_paper/franklab_probe'\n",
    "raw=dirname+'/raw.mda'\n",
    "raw_h5=dirname+'/raw.h5'\n",
    "firings_true=dirname+'/firings_true.mda'\n",
    "geom=dirname+'/geom.csv'"
   ]
  },
  {
   "cell_type": "code",
   "execution_count": 16,
   "metadata": {},
   "outputs": [
    {
     "name": "stdout",
     "output_type": "stream",
     "text": [
      "Locating timeseries file...\n",
      "Found: https://kbucket.flatironinstitute.org/b5ecdf1474c5/download/raw_old/bf91fafcefd530d23b2f50c428dd5537468de416\n"
     ]
    }
   ],
   "source": [
    "print('Locating timeseries file...')\n",
    "raw_fname=mlp.locateFile(raw)\n",
    "print('Found: '+raw_fname)"
   ]
  },
  {
   "cell_type": "code",
   "execution_count": 18,
   "metadata": {},
   "outputs": [
    {
     "data": {
      "application/vnd.jupyter.widget-view+json": {
       "model_id": "1d7a0f6470c04045abd49d7b73f1b258",
       "version_major": 2,
       "version_minor": 0
      },
      "text/plain": [
       "VBox(children=(HBox(children=(Button(icon='plus-square', layout=Layout(width='40px'), style=ButtonStyle(), too…"
      ]
     },
     "metadata": {},
     "output_type": "display_data"
    }
   ],
   "source": [
    "# Display timeseries widget with the Mda reader\n",
    "reader=TimeseriesMdaReader(raw_fname,samplerate=30000)\n",
    "W=TimeseriesWidget(reader,channels=[1,2,3,4,5,6,7,8])"
   ]
  },
  {
   "cell_type": "code",
   "execution_count": 6,
   "metadata": {},
   "outputs": [],
   "source": [
    "## Now do the same with different format (hdf5)"
   ]
  },
  {
   "cell_type": "code",
   "execution_count": 8,
   "metadata": {},
   "outputs": [
    {
     "name": "stdout",
     "output_type": "stream",
     "text": [
      "Downloading timeseries (if needed)...\n"
     ]
    }
   ],
   "source": [
    "print('Downloading timeseries (if needed)...')\n",
    "raw_h5_fname=mlp.realizeFile(raw_h5)"
   ]
  },
  {
   "cell_type": "code",
   "execution_count": 9,
   "metadata": {},
   "outputs": [
    {
     "data": {
      "application/vnd.jupyter.widget-view+json": {
       "model_id": "ce86ec2727cb4323945bbd7e4307659f",
       "version_major": 2,
       "version_minor": 0
      },
      "text/plain": [
       "VBox(children=(HBox(children=(Button(icon='plus-square', layout=Layout(width='40px'), style=ButtonStyle(), too…"
      ]
     },
     "metadata": {},
     "output_type": "display_data"
    }
   ],
   "source": [
    "# Display timeseries widget with the HDF5 reader\n",
    "reader=TimeseriesHdf5Reader(raw_h5_fname)\n",
    "W=TimeseriesWidget(reader,channels=[1,2,3,4])"
   ]
  },
  {
   "cell_type": "code",
   "execution_count": null,
   "metadata": {},
   "outputs": [],
   "source": []
  }
 ],
 "metadata": {
  "kernelspec": {
   "display_name": "Python 3",
   "language": "python",
   "name": "python3"
  },
  "language_info": {
   "codemirror_mode": {
    "name": "ipython",
    "version": 3
   },
   "file_extension": ".py",
   "mimetype": "text/x-python",
   "name": "python",
   "nbconvert_exporter": "python",
   "pygments_lexer": "ipython3",
   "version": "3.6.2"
  }
 },
 "nbformat": 4,
 "nbformat_minor": 2
}
