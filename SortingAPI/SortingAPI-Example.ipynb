{
 "cells": [
  {
   "cell_type": "code",
   "execution_count": null,
   "metadata": {},
   "outputs": [],
   "source": [
    "#User-defined subclass (a couple of important, easy functions for interfacing with Cole's spike sorting output)\n",
    "from ExtracellularExtractor import ColesExampleExtractor\n",
    "\n",
    "#Our unversal analyzer for doing important functions\n",
    "from ExtracellularAnalyzer import ExtracellularAnalyzer"
   ]
  },
  {
   "cell_type": "code",
   "execution_count": null,
   "metadata": {},
   "outputs": [],
   "source": [
    "#Get some parameters that make my extracellular extractor work!\n",
    "spike_unit_ids = getSpikeUnitIDs('/my/sorting/output.hdf5')\n",
    "spike_times_file = = getSpikeTimes('/my/sorting/output.hdf5')"
   ]
  },
  {
   "cell_type": "code",
   "execution_count": null,
   "metadata": {},
   "outputs": [],
   "source": [
    "#Initialize a new ExtracellularExtractor object that was user-defined to perform standardized functions\n",
    "\n",
    "new_cole_extractor = ColesExampleExtractor(spike_unit_ids, spike_times_file)"
   ]
  },
  {
   "cell_type": "code",
   "execution_count": null,
   "metadata": {},
   "outputs": [],
   "source": [
    "'''Create a new Extracellular Analyzer for visualization, evaluation, and other useful functions. It will use the\n",
    "ExtracellularExtractor to get all the details it needs for its universal functions that we all want.\n",
    "'''\n",
    "\n",
    "new_analyzer = ExtracellularAnalyzer(new_cole_extractor, waveform_len=50)"
   ]
  },
  {
   "cell_type": "code",
   "execution_count": null,
   "metadata": {},
   "outputs": [],
   "source": [
    "#This function will always work\n",
    "new_analyzer.getNumUnits()"
   ]
  },
  {
   "cell_type": "code",
   "execution_count": null,
   "metadata": {},
   "outputs": [],
   "source": [
    "'''\n",
    "ColesExampleExtractor provided the getUnitSpikeTimes function so this will return a numpy array of spike times\n",
    "for the specified unit\n",
    "'''\n",
    "new_analyzer.getUnitSpikeTimes(unit_id=7)"
   ]
  },
  {
   "cell_type": "code",
   "execution_count": null,
   "metadata": {},
   "outputs": [],
   "source": [
    "'''\n",
    "ColesExampleExtractor did not provide the getUnitSpikeWaveform function so it will throw an error when trying to \n",
    "get waveforms\n",
    "'''\n",
    "new_analyzer.getUnitSpikeWaveforms(unit_id=7)"
   ]
  },
  {
   "cell_type": "code",
   "execution_count": null,
   "metadata": {},
   "outputs": [],
   "source": [
    "'''\n",
    "ColesExampleExtractor did not provide the getUnitSpikeWaveform function so it will throw an error when trying to \n",
    "plot waveforms\n",
    "'''\n",
    "new_analyzer.plotUnitWaveforms(unit_id=7, num_waveforms=100)"
   ]
  },
  {
   "cell_type": "code",
   "execution_count": null,
   "metadata": {},
   "outputs": [],
   "source": [
    "'''\n",
    "ColesExampleExtractor provided the getUnitSpikeTimes function so this will return a NEO spike train for the \n",
    "specified unit\n",
    "'''\n",
    "\n",
    "NEOSPIKETRAIN = new_analyzer.getSpikeTrain(unit_id=7)"
   ]
  },
  {
   "cell_type": "code",
   "execution_count": null,
   "metadata": {},
   "outputs": [],
   "source": [
    "'''\n",
    "ColesExampleExtractor did not provide the getUnitSpikeWaveform function so it will throw an error when trying to \n",
    "get cluster stability\n",
    "'''\n",
    "\n",
    "new_analyzer.getClusterStability(unit_id=7)"
   ]
  }
 ],
 "metadata": {
  "kernelspec": {
   "display_name": "Python 2",
   "language": "python",
   "name": "python2"
  },
  "language_info": {
   "codemirror_mode": {
    "name": "ipython",
    "version": 2
   },
   "file_extension": ".py",
   "mimetype": "text/x-python",
   "name": "python",
   "nbconvert_exporter": "python",
   "pygments_lexer": "ipython2",
   "version": "2.7.15"
  }
 },
 "nbformat": 4,
 "nbformat_minor": 2
}
