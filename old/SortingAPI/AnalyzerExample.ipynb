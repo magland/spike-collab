{
 "cells": [
  {
   "cell_type": "markdown",
   "metadata": {},
   "source": [
    "# Basic example of Analyzer use and functions"
   ]
  },
  {
   "cell_type": "code",
   "execution_count": 1,
   "metadata": {},
   "outputs": [
    {
     "name": "stdout",
     "output_type": "stream",
     "text": [
      "The autoreload extension is already loaded. To reload it, use:\n",
      "  %reload_ext autoreload\n"
     ]
    }
   ],
   "source": [
    "# For development purposes, reload imported modules when source changes\n",
    "%load_ext autoreload\n",
    "%autoreload 2"
   ]
  },
  {
   "cell_type": "code",
   "execution_count": 14,
   "metadata": {},
   "outputs": [],
   "source": [
    "import os\n",
    "import numpy as np\n",
    "import neo\n",
    "from os.path import join\n",
    "import yaml\n",
    "import quantities as pq\n",
    "import matplotlib.pylab as plt"
   ]
  },
  {
   "cell_type": "markdown",
   "metadata": {},
   "source": [
    "### Create specific input and output extractors"
   ]
  },
  {
   "cell_type": "code",
   "execution_count": 3,
   "metadata": {
    "collapsed": true
   },
   "outputs": [],
   "source": [
    "from InputExtractor import InputExtractor\n",
    "from OutputExtractor import OutputExtractor\n",
    "\n",
    "class MEArecInputExtractor(InputExtractor):\n",
    "    def __init__(self, recording_folder):\n",
    "        InputExtractor.__init__(self)\n",
    "        self.implemented_get_raw_slices = True\n",
    "        self.implemented_get_probe_information = True\n",
    "        self.recording_folder = recording_folder\n",
    "        self.fs = None\n",
    "        self.positions = None\n",
    "        \n",
    "    def extractRawSlices(self, t_start=None, t_end=None, electrode_ids=None):\n",
    "        recordings, times, positions, templates, spiketrains, sources, peaks, info = \\\n",
    "        load_recordings(self.recording_folder)\n",
    "        return recordings, times\n",
    "    \n",
    "    def getSamplingFrequency(self):\n",
    "        if self.fs is None:\n",
    "            recordings, times, positions, templates, spiketrains, sources, peaks, info = \\\n",
    "            load_recordings(self.recording_folder)\n",
    "            self.fs  =info['General']['fs']\n",
    "        return self.fs * pq.kHz\n",
    "    \n",
    "    def getProbeInformation(self):\n",
    "        if self.positions is None:\n",
    "            recordings, times, positions, templates, spiketrains, sources, peaks, info = \\\n",
    "            load_recordings(self.recording_folder)\n",
    "            self.positions = positions\n",
    "        return self.positions\n",
    "    \n",
    "\n",
    "class MEArecOutputExtractor(OutputExtractor):\n",
    "    def __init__(self, recording_folder):\n",
    "        OutputExtractor.__init__(self)\n",
    "        self.implemented_get_num_units = True\n",
    "        self.implemented_get_unit_spike_times = True\n",
    "        self.recording_folder = recording_folder\n",
    "        self.numUnits = None\n",
    "        \n",
    "    def getNumUnits(self):\n",
    "        if self.numUnits is None:\n",
    "            recordings, times, positions, templates, spiketrains, sources, peaks, info = \\\n",
    "            load_recordings(self.recording_folder)\n",
    "            self.numUnits = len(spiketrains)\n",
    "        return self.numUnits            \n",
    "        \n",
    "\n",
    "    def getUnitSpikeTimes(self, unit_id, t_start=None, t_stop=None):\n",
    "        spiketrains = np.load(os.path.join(self.recording_folder, 'spiketrains.npy'))\n",
    "        return spiketrains[unit_id].times       \n",
    "        \n",
    "        \n",
    "        \n",
    "def load_recordings(recording_folder):\n",
    "    '''\n",
    "    Load generated recordings (from template_gen.py)\n",
    "\n",
    "    Parameters\n",
    "    ----------\n",
    "    recording_folder: recordings folder\n",
    "\n",
    "    Returns\n",
    "    -------\n",
    "    recordings, times, positions, templates, spiketrains, sources, peaks - np.arrays\n",
    "    info - dict\n",
    "\n",
    "    '''\n",
    "    print(\"Loading recordings...\")\n",
    "\n",
    "    recordings = np.load(join(recording_folder, 'recordings.npy'))\n",
    "    positions = np.load(join(recording_folder, 'positions.npy'))\n",
    "    times = np.load(join(recording_folder, 'times.npy'))\n",
    "    templates = np.load(join(recording_folder, 'templates.npy'))\n",
    "    spiketrains = np.load(join(recording_folder, 'spiketrains.npy'))\n",
    "    sources = np.load(join(recording_folder, 'sources.npy'))\n",
    "    peaks = np.load(join(recording_folder, 'peaks.npy'))\n",
    "\n",
    "    with open(join(recording_folder, 'info.yaml'), 'r') as f:\n",
    "        info = yaml.load(f)\n",
    "\n",
    "    if not isinstance(times, pq.Quantity):\n",
    "        times = times * pq.ms\n",
    "\n",
    "    print(\"Done loading recordings...\")\n",
    "    return recordings, times, positions, templates, spiketrains, sources, peaks, info"
   ]
  },
  {
   "cell_type": "markdown",
   "metadata": {},
   "source": [
    "### Define local recording folder"
   ]
  },
  {
   "cell_type": "code",
   "execution_count": 4,
   "metadata": {
    "collapsed": true
   },
   "outputs": [],
   "source": [
    "rec_folder = '/home/alessio/Documents/Codes/MEArec/recordings/recordings_20cells_Neuronexus-32_10.0_10.0uV_21-09-2018:10:17'"
   ]
  },
  {
   "cell_type": "markdown",
   "metadata": {},
   "source": [
    "Instantiate Input and Output Extractors for MEArec recordings"
   ]
  },
  {
   "cell_type": "code",
   "execution_count": 5,
   "metadata": {
    "collapsed": true
   },
   "outputs": [],
   "source": [
    "input_ext = MEArecInputExtractor(rec_folder)\n",
    "output_ext = MEArecOutputExtractor(rec_folder)"
   ]
  },
  {
   "cell_type": "markdown",
   "metadata": {},
   "source": [
    "Create Analyzer object"
   ]
  },
  {
   "cell_type": "code",
   "execution_count": 6,
   "metadata": {},
   "outputs": [],
   "source": [
    "from Analyzer import Analyzer\n",
    "analyze = Analyzer(input_ext, output_ext)"
   ]
  },
  {
   "cell_type": "markdown",
   "metadata": {},
   "source": [
    "### Get NEO spiketrains"
   ]
  },
  {
   "cell_type": "code",
   "execution_count": 7,
   "metadata": {},
   "outputs": [
    {
     "data": {
      "text/plain": [
       "SpikeTrain"
      ]
     },
     "execution_count": 7,
     "metadata": {},
     "output_type": "execute_result"
    }
   ],
   "source": [
    "analyze.getSpikeTrain(1)[0]"
   ]
  },
  {
   "cell_type": "code",
   "execution_count": 8,
   "metadata": {},
   "outputs": [
    {
     "name": "stdout",
     "output_type": "stream",
     "text": [
      "Loading recordings...\n",
      "Done loading recordings...\n"
     ]
    },
    {
     "data": {
      "text/plain": [
       "SpikeTrain"
      ]
     },
     "execution_count": 8,
     "metadata": {},
     "output_type": "execute_result"
    }
   ],
   "source": [
    "neost = analyze.getSpikeTrain()\n",
    "neost[0]"
   ]
  },
  {
   "cell_type": "code",
   "execution_count": 25,
   "metadata": {},
   "outputs": [
    {
     "name": "stdout",
     "output_type": "stream",
     "text": [
      "Loading recordings...\n",
      "Done loading recordings...\n",
      "('Number of waveforms: ', 41)\n",
      "(41, 32, 192)\n"
     ]
    }
   ],
   "source": [
    "wf = analyze.getUnitSpikeWaveforms(1)\n",
    "print(wf.shape)"
   ]
  },
  {
   "cell_type": "code",
   "execution_count": 24,
   "metadata": {},
   "outputs": [
    {
     "data": {
      "text/plain": [
       "[<matplotlib.lines.Line2D at 0x7f35133cc750>]"
      ]
     },
     "execution_count": 24,
     "metadata": {},
     "output_type": "execute_result"
    },
    {
     "data": {
      "image/png": "[encoded data removed]",
      "text/plain": [
       "<matplotlib.figure.Figure at 0x7f35133cc790>"
      ]
     },
     "metadata": {},
     "output_type": "display_data"
    }
   ],
   "source": [
    "plt.plot(wf[:, 8].T, 'k', alpha=0.1)\n",
    "plt.plot(wf[:, 8].mean(axis=0), 'k', lw=3)"
   ]
  },
  {
   "cell_type": "code",
   "execution_count": 27,
   "metadata": {},
   "outputs": [],
   "source": [
    "# TODO extracte multiple spike waveforms at once"
   ]
  }
 ],
 "metadata": {
  "kernelspec": {
   "display_name": "Python (spyica)",
   "language": "python",
   "name": "spyica"
  },
  "language_info": {
   "codemirror_mode": {
    "name": "ipython",
    "version": 2
   },
   "file_extension": ".py",
   "mimetype": "text/x-python",
   "name": "python",
   "nbconvert_exporter": "python",
   "pygments_lexer": "ipython2",
   "version": "2.7.14"
  }
 },
 "nbformat": 4,
 "nbformat_minor": 2
}
