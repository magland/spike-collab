{
 "cells": [
  {
   "cell_type": "code",
   "execution_count": 1,
   "metadata": {},
   "outputs": [],
   "source": [
    "# For development purposes, reload imported modules when source changes\n",
    "%load_ext autoreload\n",
    "%autoreload 2\n",
    "\n",
    "def append_to_path(dir0): # A convenience function\n",
    "    if dir0 not in sys.path:\n",
    "        sys.path.append(dir0)\n",
    "\n",
    "import os, sys\n",
    "append_to_path(os.getcwd()+'/..')\n",
    "\n",
    "import spikeinterface as si"
   ]
  },
  {
   "cell_type": "code",
   "execution_count": 2,
   "metadata": {},
   "outputs": [],
   "source": [
    "A=si.MdaInputExtractor(dataset_directory='kbucket://b5ecdf1474c5/datasets/synth_datasets/datasets/synth_tetrode_30min',download=False)"
   ]
  },
  {
   "cell_type": "code",
   "execution_count": 3,
   "metadata": {},
   "outputs": [
    {
     "data": {
      "text/plain": [
       "4"
      ]
     },
     "execution_count": 3,
     "metadata": {},
     "output_type": "execute_result"
    }
   ],
   "source": [
    "A.getNumChannels()"
   ]
  },
  {
   "cell_type": "code",
   "execution_count": 4,
   "metadata": {},
   "outputs": [
    {
     "name": "stdout",
     "output_type": "stream",
     "text": [
      "Downloading file if needed: kbucket://b5ecdf1474c5/datasets/synth_datasets/datasets/synth_tetrode_30min/firings_true.mda\n",
      "Done.\n"
     ]
    }
   ],
   "source": [
    "B=si.MdaOutputExtractor(firings_file='kbucket://b5ecdf1474c5/datasets/synth_datasets/datasets/synth_tetrode_30min/firings_true.mda')"
   ]
  },
  {
   "cell_type": "code",
   "execution_count": 5,
   "metadata": {},
   "outputs": [
    {
     "data": {
      "text/plain": [
       "array([  2.71249481e+03,   1.22188979e+04,   1.83042929e+04, ...,\n",
       "         5.39305688e+07,   5.39829415e+07,   5.39836896e+07])"
      ]
     },
     "execution_count": 5,
     "metadata": {},
     "output_type": "execute_result"
    }
   ],
   "source": [
    "B.getUnitSpikeTrain(unit_id=0)"
   ]
  },
  {
   "cell_type": "code",
   "execution_count": 6,
   "metadata": {},
   "outputs": [],
   "source": [
    "A2=si.MEArecInputExtractor(recording_folder='/home/magland/src/MEArec/recordings/recordings_20cells_Neuronexus-32_10.0_10.0uV_24-09-2018:09:25')"
   ]
  },
  {
   "cell_type": "code",
   "execution_count": 7,
   "metadata": {},
   "outputs": [
    {
     "name": "stdout",
     "output_type": "stream",
     "text": [
      "Loading recordings...\n"
     ]
    },
    {
     "ename": "UnicodeError",
     "evalue": "Unpickling a python object failed: UnicodeDecodeError('ascii', b'\\'\\x95\\x11E\\x17\\xa8\\xcf?20C\\xfb#\\x9e\\xd7?t\\rT\\xf2\\x86\\x06\\xe6?0oB\\xeb\\xa9F\\xe9?K\\xe5\\xfb!\\x86e\\xe9?\\x00\\x1a\\xe7\\xaff}\\xeb?\\xb5\\xfb\\x83&\\x1b\\xe9\\xf2?2=3\\xd56\\xad\\xf3?\\xda\\xfc\\xfd\\xb6^{\\xf9?\\xe4\\xe6/BD\\xe7\\x00@c\\xdc\\xbe\\x94\\xe6)\\x05@\\xee\\xfd\\x00{\\xde\"\\x06@\\xcf\\xe8\\xd2\\xd8{$\\x0b@\\xe6w\\xafY}a\\x0e@\\xa3v\\xd3xS\\x07\\x11@\\xfa\\xeb\\xda<\\x84q\\x11@\\xd52\\x1eI\\x93\\xdd\\x11@\\xde\\x8c\\xd6\\xea4Q\\x15@\\x1d\\xa7\\x91\\x82q\\xa0\\x15@<\\xccp\\xf8R2\\x16@w\\xcfh\\xfev\\xd4\\x16@\\x07\\xdb\\xb2\\xe6\\xba\\xe0\\x16@\\x10\\xc4{\\x0c]\\x03\\x17@\\xc1\\xd5\\xb9\\xa5\\x14\\x95\\x17@\\xea\\x17_\\x8a>M\\x18@\"\\xf2\\xd2\\xcb7\\xbf\\x18@iD\\x00\\xb0\\xbd_\\x1a@\\xb0\\tf\\xba\\x87\\xb2\\x1a@8?\\xc8J\\x0eO\\x1c@\\xc5&\\x9bi\\x07\\xb7\\x1c@\\xb24`\\x91\\xb1\\x0c\\x1f@\\x9b\\xdaW\\xb0\\x882\\x1f@\\x95j\\x0fBqs\\x1f@pY\\ng\\xbe\\xb1!@#\\xc7,\\xf7\\x82\\xe4!@\\xb5\\xf1\\xeb_\\x0eA\"@\\xfa\\xe7YH{J\"@\\x94|WH\\x1b]\"@', 1, 2, 'ordinal not in range(128)')\nYou may need to pass the encoding= option to numpy.load",
     "output_type": "error",
     "traceback": [
      "\u001b[0;31m---------------------------------------------------------------------------\u001b[0m",
      "\u001b[0;31mUnicodeDecodeError\u001b[0m                        Traceback (most recent call last)",
      "\u001b[0;32m~/miniconda3/envs/devel/lib/python3.6/site-packages/numpy/lib/format.py\u001b[0m in \u001b[0;36mread_array\u001b[0;34m(fp, allow_pickle, pickle_kwargs)\u001b[0m\n\u001b[1;32m    639\u001b[0m         \u001b[0;32mtry\u001b[0m\u001b[0;34m:\u001b[0m\u001b[0;34m\u001b[0m\u001b[0m\n\u001b[0;32m--> 640\u001b[0;31m             \u001b[0marray\u001b[0m \u001b[0;34m=\u001b[0m \u001b[0mpickle\u001b[0m\u001b[0;34m.\u001b[0m\u001b[0mload\u001b[0m\u001b[0;34m(\u001b[0m\u001b[0mfp\u001b[0m\u001b[0;34m,\u001b[0m \u001b[0;34m**\u001b[0m\u001b[0mpickle_kwargs\u001b[0m\u001b[0;34m)\u001b[0m\u001b[0;34m\u001b[0m\u001b[0m\n\u001b[0m\u001b[1;32m    641\u001b[0m         \u001b[0;32mexcept\u001b[0m \u001b[0mUnicodeError\u001b[0m \u001b[0;32mas\u001b[0m \u001b[0merr\u001b[0m\u001b[0;34m:\u001b[0m\u001b[0;34m\u001b[0m\u001b[0m\n",
      "\u001b[0;31mUnicodeDecodeError\u001b[0m: 'ascii' codec can't decode byte 0x95 in position 1: ordinal not in range(128)",
      "\nDuring handling of the above exception, another exception occurred:\n",
      "\u001b[0;31mUnicodeError\u001b[0m                              Traceback (most recent call last)",
      "\u001b[0;32m<ipython-input-7-c9c4d1a202d7>\u001b[0m in \u001b[0;36m<module>\u001b[0;34m()\u001b[0m\n\u001b[0;32m----> 1\u001b[0;31m \u001b[0mA2\u001b[0m\u001b[0;34m.\u001b[0m\u001b[0mgetSamplingFrequency\u001b[0m\u001b[0;34m(\u001b[0m\u001b[0;34m)\u001b[0m\u001b[0;34m\u001b[0m\u001b[0m\n\u001b[0m",
      "\u001b[0;32m~/src/mldevel/components/mountainsort_examples/spike-collab/spikeinterface/test/../spikeinterface/extractors/mearecextractors/mearecextractors.py\u001b[0m in \u001b[0;36mgetSamplingFrequency\u001b[0;34m(self)\u001b[0m\n\u001b[1;32m     33\u001b[0m     \u001b[0;32mdef\u001b[0m \u001b[0mgetSamplingFrequency\u001b[0m\u001b[0;34m(\u001b[0m\u001b[0mself\u001b[0m\u001b[0;34m)\u001b[0m\u001b[0;34m:\u001b[0m\u001b[0;34m\u001b[0m\u001b[0m\n\u001b[1;32m     34\u001b[0m         \u001b[0;32mif\u001b[0m \u001b[0mself\u001b[0m\u001b[0;34m.\u001b[0m\u001b[0mfs\u001b[0m \u001b[0;32mis\u001b[0m \u001b[0;32mNone\u001b[0m\u001b[0;34m:\u001b[0m\u001b[0;34m\u001b[0m\u001b[0m\n\u001b[0;32m---> 35\u001b[0;31m             \u001b[0mself\u001b[0m\u001b[0;34m.\u001b[0m\u001b[0m_initialize\u001b[0m\u001b[0;34m(\u001b[0m\u001b[0;34m)\u001b[0m\u001b[0;34m\u001b[0m\u001b[0m\n\u001b[0m\u001b[1;32m     36\u001b[0m         \u001b[0;32mreturn\u001b[0m \u001b[0mself\u001b[0m\u001b[0;34m.\u001b[0m\u001b[0mfs\u001b[0m \u001b[0;34m*\u001b[0m \u001b[0mpq\u001b[0m\u001b[0;34m.\u001b[0m\u001b[0mkHz\u001b[0m\u001b[0;34m\u001b[0m\u001b[0m\n\u001b[1;32m     37\u001b[0m \u001b[0;34m\u001b[0m\u001b[0m\n",
      "\u001b[0;32m~/src/mldevel/components/mountainsort_examples/spike-collab/spikeinterface/test/../spikeinterface/extractors/mearecextractors/mearecextractors.py\u001b[0m in \u001b[0;36m_initialize\u001b[0;34m(self)\u001b[0m\n\u001b[1;32m     16\u001b[0m     \u001b[0;32mdef\u001b[0m \u001b[0m_initialize\u001b[0m\u001b[0;34m(\u001b[0m\u001b[0mself\u001b[0m\u001b[0;34m)\u001b[0m\u001b[0;34m:\u001b[0m\u001b[0;34m\u001b[0m\u001b[0m\n\u001b[1;32m     17\u001b[0m         \u001b[0mrecordings\u001b[0m\u001b[0;34m,\u001b[0m \u001b[0mtimes\u001b[0m\u001b[0;34m,\u001b[0m \u001b[0mpositions\u001b[0m\u001b[0;34m,\u001b[0m \u001b[0mtemplates\u001b[0m\u001b[0;34m,\u001b[0m \u001b[0mspiketrains\u001b[0m\u001b[0;34m,\u001b[0m \u001b[0msources\u001b[0m\u001b[0;34m,\u001b[0m \u001b[0mpeaks\u001b[0m\u001b[0;34m,\u001b[0m \u001b[0minfo\u001b[0m \u001b[0;34m=\u001b[0m\u001b[0;31m \u001b[0m\u001b[0;31m\\\u001b[0m\u001b[0;34m\u001b[0m\u001b[0m\n\u001b[0;32m---> 18\u001b[0;31m             \u001b[0mload_recordings\u001b[0m\u001b[0;34m(\u001b[0m\u001b[0mself\u001b[0m\u001b[0;34m.\u001b[0m\u001b[0mrecording_folder\u001b[0m\u001b[0;34m)\u001b[0m\u001b[0;34m\u001b[0m\u001b[0m\n\u001b[0m\u001b[1;32m     19\u001b[0m         \u001b[0mself\u001b[0m\u001b[0;34m.\u001b[0m\u001b[0mfs\u001b[0m  \u001b[0;34m=\u001b[0m\u001b[0minfo\u001b[0m\u001b[0;34m[\u001b[0m\u001b[0;34m'General'\u001b[0m\u001b[0;34m]\u001b[0m\u001b[0;34m[\u001b[0m\u001b[0;34m'fs'\u001b[0m\u001b[0;34m]\u001b[0m\u001b[0;34m\u001b[0m\u001b[0m\n\u001b[1;32m     20\u001b[0m         \u001b[0mself\u001b[0m\u001b[0;34m.\u001b[0m\u001b[0mpositions\u001b[0m \u001b[0;34m=\u001b[0m \u001b[0mpositions\u001b[0m\u001b[0;34m\u001b[0m\u001b[0m\n",
      "\u001b[0;32m~/src/mldevel/components/mountainsort_examples/spike-collab/spikeinterface/test/../spikeinterface/extractors/mearecextractors/mearecextractors.py\u001b[0m in \u001b[0;36mload_recordings\u001b[0;34m(recording_folder)\u001b[0m\n\u001b[1;32m    102\u001b[0m     \u001b[0mtimes\u001b[0m \u001b[0;34m=\u001b[0m \u001b[0mnp\u001b[0m\u001b[0;34m.\u001b[0m\u001b[0mload\u001b[0m\u001b[0;34m(\u001b[0m\u001b[0mjoin\u001b[0m\u001b[0;34m(\u001b[0m\u001b[0mrecording_folder\u001b[0m\u001b[0;34m,\u001b[0m \u001b[0;34m'times.npy'\u001b[0m\u001b[0;34m)\u001b[0m\u001b[0;34m)\u001b[0m\u001b[0;34m\u001b[0m\u001b[0m\n\u001b[1;32m    103\u001b[0m     \u001b[0mtemplates\u001b[0m \u001b[0;34m=\u001b[0m \u001b[0mnp\u001b[0m\u001b[0;34m.\u001b[0m\u001b[0mload\u001b[0m\u001b[0;34m(\u001b[0m\u001b[0mjoin\u001b[0m\u001b[0;34m(\u001b[0m\u001b[0mrecording_folder\u001b[0m\u001b[0;34m,\u001b[0m \u001b[0;34m'templates.npy'\u001b[0m\u001b[0;34m)\u001b[0m\u001b[0;34m)\u001b[0m\u001b[0;34m\u001b[0m\u001b[0m\n\u001b[0;32m--> 104\u001b[0;31m     \u001b[0mspiketrains\u001b[0m \u001b[0;34m=\u001b[0m \u001b[0mnp\u001b[0m\u001b[0;34m.\u001b[0m\u001b[0mload\u001b[0m\u001b[0;34m(\u001b[0m\u001b[0mjoin\u001b[0m\u001b[0;34m(\u001b[0m\u001b[0mrecording_folder\u001b[0m\u001b[0;34m,\u001b[0m \u001b[0;34m'spiketrains.npy'\u001b[0m\u001b[0;34m)\u001b[0m\u001b[0;34m)\u001b[0m\u001b[0;34m\u001b[0m\u001b[0m\n\u001b[0m\u001b[1;32m    105\u001b[0m     \u001b[0msources\u001b[0m \u001b[0;34m=\u001b[0m \u001b[0mnp\u001b[0m\u001b[0;34m.\u001b[0m\u001b[0mload\u001b[0m\u001b[0;34m(\u001b[0m\u001b[0mjoin\u001b[0m\u001b[0;34m(\u001b[0m\u001b[0mrecording_folder\u001b[0m\u001b[0;34m,\u001b[0m \u001b[0;34m'sources.npy'\u001b[0m\u001b[0;34m)\u001b[0m\u001b[0;34m)\u001b[0m\u001b[0;34m\u001b[0m\u001b[0m\n\u001b[1;32m    106\u001b[0m     \u001b[0mpeaks\u001b[0m \u001b[0;34m=\u001b[0m \u001b[0mnp\u001b[0m\u001b[0;34m.\u001b[0m\u001b[0mload\u001b[0m\u001b[0;34m(\u001b[0m\u001b[0mjoin\u001b[0m\u001b[0;34m(\u001b[0m\u001b[0mrecording_folder\u001b[0m\u001b[0;34m,\u001b[0m \u001b[0;34m'peaks.npy'\u001b[0m\u001b[0;34m)\u001b[0m\u001b[0;34m)\u001b[0m\u001b[0;34m\u001b[0m\u001b[0m\n",
      "\u001b[0;32m~/miniconda3/envs/devel/lib/python3.6/site-packages/numpy/lib/npyio.py\u001b[0m in \u001b[0;36mload\u001b[0;34m(file, mmap_mode, allow_pickle, fix_imports, encoding)\u001b[0m\n\u001b[1;32m    417\u001b[0m             \u001b[0;32melse\u001b[0m\u001b[0;34m:\u001b[0m\u001b[0;34m\u001b[0m\u001b[0m\n\u001b[1;32m    418\u001b[0m                 return format.read_array(fid, allow_pickle=allow_pickle,\n\u001b[0;32m--> 419\u001b[0;31m                                          pickle_kwargs=pickle_kwargs)\n\u001b[0m\u001b[1;32m    420\u001b[0m         \u001b[0;32melse\u001b[0m\u001b[0;34m:\u001b[0m\u001b[0;34m\u001b[0m\u001b[0m\n\u001b[1;32m    421\u001b[0m             \u001b[0;31m# Try a pickle\u001b[0m\u001b[0;34m\u001b[0m\u001b[0;34m\u001b[0m\u001b[0m\n",
      "\u001b[0;32m~/miniconda3/envs/devel/lib/python3.6/site-packages/numpy/lib/format.py\u001b[0m in \u001b[0;36mread_array\u001b[0;34m(fp, allow_pickle, pickle_kwargs)\u001b[0m\n\u001b[1;32m    644\u001b[0m                 raise UnicodeError(\"Unpickling a python object failed: %r\\n\"\n\u001b[1;32m    645\u001b[0m                                    \u001b[0;34m\"You may need to pass the encoding= option \"\u001b[0m\u001b[0;34m\u001b[0m\u001b[0m\n\u001b[0;32m--> 646\u001b[0;31m                                    \"to numpy.load\" % (err,))\n\u001b[0m\u001b[1;32m    647\u001b[0m             \u001b[0;32mraise\u001b[0m\u001b[0;34m\u001b[0m\u001b[0m\n\u001b[1;32m    648\u001b[0m     \u001b[0;32melse\u001b[0m\u001b[0;34m:\u001b[0m\u001b[0;34m\u001b[0m\u001b[0m\n",
      "\u001b[0;31mUnicodeError\u001b[0m: Unpickling a python object failed: UnicodeDecodeError('ascii', b'\\'\\x95\\x11E\\x17\\xa8\\xcf?20C\\xfb#\\x9e\\xd7?t\\rT\\xf2\\x86\\x06\\xe6?0oB\\xeb\\xa9F\\xe9?K\\xe5\\xfb!\\x86e\\xe9?\\x00\\x1a\\xe7\\xaff}\\xeb?\\xb5\\xfb\\x83&\\x1b\\xe9\\xf2?2=3\\xd56\\xad\\xf3?\\xda\\xfc\\xfd\\xb6^{\\xf9?\\xe4\\xe6/BD\\xe7\\x00@c\\xdc\\xbe\\x94\\xe6)\\x05@\\xee\\xfd\\x00{\\xde\"\\x06@\\xcf\\xe8\\xd2\\xd8{$\\x0b@\\xe6w\\xafY}a\\x0e@\\xa3v\\xd3xS\\x07\\x11@\\xfa\\xeb\\xda<\\x84q\\x11@\\xd52\\x1eI\\x93\\xdd\\x11@\\xde\\x8c\\xd6\\xea4Q\\x15@\\x1d\\xa7\\x91\\x82q\\xa0\\x15@<\\xccp\\xf8R2\\x16@w\\xcfh\\xfev\\xd4\\x16@\\x07\\xdb\\xb2\\xe6\\xba\\xe0\\x16@\\x10\\xc4{\\x0c]\\x03\\x17@\\xc1\\xd5\\xb9\\xa5\\x14\\x95\\x17@\\xea\\x17_\\x8a>M\\x18@\"\\xf2\\xd2\\xcb7\\xbf\\x18@iD\\x00\\xb0\\xbd_\\x1a@\\xb0\\tf\\xba\\x87\\xb2\\x1a@8?\\xc8J\\x0eO\\x1c@\\xc5&\\x9bi\\x07\\xb7\\x1c@\\xb24`\\x91\\xb1\\x0c\\x1f@\\x9b\\xdaW\\xb0\\x882\\x1f@\\x95j\\x0fBqs\\x1f@pY\\ng\\xbe\\xb1!@#\\xc7,\\xf7\\x82\\xe4!@\\xb5\\xf1\\xeb_\\x0eA\"@\\xfa\\xe7YH{J\"@\\x94|WH\\x1b]\"@', 1, 2, 'ordinal not in range(128)')\nYou may need to pass the encoding= option to numpy.load"
     ]
    }
   ],
   "source": [
    "A2.getSamplingFrequency()"
   ]
  },
  {
   "cell_type": "code",
   "execution_count": null,
   "metadata": {},
   "outputs": [],
   "source": []
  }
 ],
 "metadata": {
  "kernelspec": {
   "display_name": "Python 3",
   "language": "python",
   "name": "python3"
  },
  "language_info": {
   "codemirror_mode": {
    "name": "ipython",
    "version": 3
   },
   "file_extension": ".py",
   "mimetype": "text/x-python",
   "name": "python",
   "nbconvert_exporter": "python",
   "pygments_lexer": "ipython3",
   "version": "3.6.2"
  }
 },
 "nbformat": 4,
 "nbformat_minor": 2
}
